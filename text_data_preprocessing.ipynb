{
 "cells": [
  {
   "cell_type": "code",
   "execution_count": 5,
   "id": "7bf8d214",
   "metadata": {},
   "outputs": [],
   "source": [
    "import nltk\n",
    "\n"
   ]
  },
  {
   "cell_type": "code",
   "execution_count": 6,
   "id": "461e23ee",
   "metadata": {},
   "outputs": [],
   "source": [
    "text=\"\"\"NOIDA: Investigators probing Nikki Bhati's death have decided to re-examine her sister Kanchan — whose account forms the basis of murder charges against Nikki's husband and in-laws — to establish the chain of events on Aug 21 evening that led to her death.\n",
    "Five days into the probe, police have no clear answers amid a maze of conflicting claims and social media videos. Seen initially as a case of husband Vipin attacking Nikki, police said the emergence of new videos makes other scenarios plausible and questioning Kanchan was critical to it.\"\"\""
   ]
  },
  {
   "cell_type": "code",
   "execution_count": 7,
   "id": "182082d7",
   "metadata": {},
   "outputs": [],
   "source": [
    "from nltk.tokenize import word_tokenize,sent_tokenize"
   ]
  },
  {
   "cell_type": "code",
   "execution_count": 8,
   "id": "0af5e1a2",
   "metadata": {},
   "outputs": [
    {
     "name": "stderr",
     "output_type": "stream",
     "text": [
      "[nltk_data] Downloading package punkt_tab to\n",
      "[nltk_data]     C:\\Users\\aswaj\\AppData\\Roaming\\nltk_data...\n",
      "[nltk_data]   Package punkt_tab is already up-to-date!\n"
     ]
    },
    {
     "data": {
      "text/plain": [
       "True"
      ]
     },
     "execution_count": 8,
     "metadata": {},
     "output_type": "execute_result"
    }
   ],
   "source": [
    "nltk.download(\"punkt_tab\")"
   ]
  },
  {
   "cell_type": "code",
   "execution_count": 9,
   "id": "02c646cb",
   "metadata": {},
   "outputs": [
    {
     "data": {
      "text/plain": [
       "[\"NOIDA: Investigators probing Nikki Bhati's death have decided to re-examine her sister Kanchan — whose account forms the basis of murder charges against Nikki's husband and in-laws — to establish the chain of events on Aug 21 evening that led to her death.\",\n",
       " 'Five days into the probe, police have no clear answers amid a maze of conflicting claims and social media videos.',\n",
       " 'Seen initially as a case of husband Vipin attacking Nikki, police said the emergence of new videos makes other scenarios plausible and questioning Kanchan was critical\\xa0to\\xa0it.']"
      ]
     },
     "execution_count": 9,
     "metadata": {},
     "output_type": "execute_result"
    }
   ],
   "source": [
    "sentences=sent_tokenize(text)\n",
    "sentences"
   ]
  },
  {
   "cell_type": "code",
   "execution_count": 10,
   "id": "87a86d6a",
   "metadata": {},
   "outputs": [
    {
     "data": {
      "text/plain": [
       "['NOIDA',\n",
       " ':',\n",
       " 'Investigators',\n",
       " 'probing',\n",
       " 'Nikki',\n",
       " 'Bhati',\n",
       " \"'s\",\n",
       " 'death',\n",
       " 'have',\n",
       " 'decided',\n",
       " 'to',\n",
       " 're-examine',\n",
       " 'her',\n",
       " 'sister',\n",
       " 'Kanchan',\n",
       " '—',\n",
       " 'whose',\n",
       " 'account',\n",
       " 'forms',\n",
       " 'the',\n",
       " 'basis',\n",
       " 'of',\n",
       " 'murder',\n",
       " 'charges',\n",
       " 'against',\n",
       " 'Nikki',\n",
       " \"'s\",\n",
       " 'husband',\n",
       " 'and',\n",
       " 'in-laws',\n",
       " '—',\n",
       " 'to',\n",
       " 'establish',\n",
       " 'the',\n",
       " 'chain',\n",
       " 'of',\n",
       " 'events',\n",
       " 'on',\n",
       " 'Aug',\n",
       " '21',\n",
       " 'evening',\n",
       " 'that',\n",
       " 'led',\n",
       " 'to',\n",
       " 'her',\n",
       " 'death',\n",
       " '.',\n",
       " 'Five',\n",
       " 'days',\n",
       " 'into',\n",
       " 'the',\n",
       " 'probe',\n",
       " ',',\n",
       " 'police',\n",
       " 'have',\n",
       " 'no',\n",
       " 'clear',\n",
       " 'answers',\n",
       " 'amid',\n",
       " 'a',\n",
       " 'maze',\n",
       " 'of',\n",
       " 'conflicting',\n",
       " 'claims',\n",
       " 'and',\n",
       " 'social',\n",
       " 'media',\n",
       " 'videos',\n",
       " '.',\n",
       " 'Seen',\n",
       " 'initially',\n",
       " 'as',\n",
       " 'a',\n",
       " 'case',\n",
       " 'of',\n",
       " 'husband',\n",
       " 'Vipin',\n",
       " 'attacking',\n",
       " 'Nikki',\n",
       " ',',\n",
       " 'police',\n",
       " 'said',\n",
       " 'the',\n",
       " 'emergence',\n",
       " 'of',\n",
       " 'new',\n",
       " 'videos',\n",
       " 'makes',\n",
       " 'other',\n",
       " 'scenarios',\n",
       " 'plausible',\n",
       " 'and',\n",
       " 'questioning',\n",
       " 'Kanchan',\n",
       " 'was',\n",
       " 'critical',\n",
       " 'to',\n",
       " 'it',\n",
       " '.']"
      ]
     },
     "execution_count": 10,
     "metadata": {},
     "output_type": "execute_result"
    }
   ],
   "source": [
    "words=word_tokenize(text)\n",
    "words"
   ]
  },
  {
   "cell_type": "code",
   "execution_count": 11,
   "id": "0000f733",
   "metadata": {},
   "outputs": [
    {
     "name": "stderr",
     "output_type": "stream",
     "text": [
      "[nltk_data] Downloading package stopwords to\n",
      "[nltk_data]     C:\\Users\\aswaj\\AppData\\Roaming\\nltk_data...\n",
      "[nltk_data]   Package stopwords is already up-to-date!\n"
     ]
    },
    {
     "data": {
      "text/plain": [
       "True"
      ]
     },
     "execution_count": 11,
     "metadata": {},
     "output_type": "execute_result"
    }
   ],
   "source": [
    "nltk.download(\"stopwords\")"
   ]
  },
  {
   "cell_type": "code",
   "execution_count": 12,
   "id": "5157569c",
   "metadata": {},
   "outputs": [],
   "source": [
    "from nltk.corpus import stopwords"
   ]
  },
  {
   "cell_type": "code",
   "execution_count": 13,
   "id": "d08ecaab",
   "metadata": {},
   "outputs": [
    {
     "data": {
      "text/plain": [
       "['NOIDA',\n",
       " ':',\n",
       " 'Investigators',\n",
       " 'probing',\n",
       " 'Nikki',\n",
       " 'Bhati',\n",
       " \"'s\",\n",
       " 'death',\n",
       " 'decided',\n",
       " 're-examine',\n",
       " 'sister',\n",
       " 'Kanchan',\n",
       " '—',\n",
       " 'whose',\n",
       " 'account',\n",
       " 'forms',\n",
       " 'basis',\n",
       " 'murder',\n",
       " 'charges',\n",
       " 'Nikki',\n",
       " \"'s\",\n",
       " 'husband',\n",
       " 'in-laws',\n",
       " '—',\n",
       " 'establish',\n",
       " 'chain',\n",
       " 'events',\n",
       " 'Aug',\n",
       " '21',\n",
       " 'evening',\n",
       " 'led',\n",
       " 'death',\n",
       " '.',\n",
       " 'Five',\n",
       " 'days',\n",
       " 'probe',\n",
       " ',',\n",
       " 'police',\n",
       " 'clear',\n",
       " 'answers',\n",
       " 'amid',\n",
       " 'maze',\n",
       " 'conflicting',\n",
       " 'claims',\n",
       " 'social',\n",
       " 'media',\n",
       " 'videos',\n",
       " '.',\n",
       " 'Seen',\n",
       " 'initially',\n",
       " 'case',\n",
       " 'husband',\n",
       " 'Vipin',\n",
       " 'attacking',\n",
       " 'Nikki',\n",
       " ',',\n",
       " 'police',\n",
       " 'said',\n",
       " 'emergence',\n",
       " 'new',\n",
       " 'videos',\n",
       " 'makes',\n",
       " 'scenarios',\n",
       " 'plausible',\n",
       " 'questioning',\n",
       " 'Kanchan',\n",
       " 'critical',\n",
       " '.']"
      ]
     },
     "execution_count": 13,
     "metadata": {},
     "output_type": "execute_result"
    }
   ],
   "source": [
    "words_after_stopwords=[word for word in words if word not in stopwords.words(\"english\")]\n",
    "words_after_stopwords"
   ]
  },
  {
   "cell_type": "code",
   "execution_count": 14,
   "id": "e610da7e",
   "metadata": {},
   "outputs": [],
   "source": [
    "from nltk.stem import PorterStemmer"
   ]
  },
  {
   "cell_type": "code",
   "execution_count": 15,
   "id": "45f1e1e1",
   "metadata": {},
   "outputs": [],
   "source": [
    "stemm=PorterStemmer()"
   ]
  },
  {
   "cell_type": "code",
   "execution_count": 16,
   "id": "04eb2574",
   "metadata": {},
   "outputs": [
    {
     "data": {
      "text/plain": [
       "['noida',\n",
       " ':',\n",
       " 'investig',\n",
       " 'probe',\n",
       " 'nikki',\n",
       " 'bhati',\n",
       " \"'s\",\n",
       " 'death',\n",
       " 'decid',\n",
       " 're-examin',\n",
       " 'sister',\n",
       " 'kanchan',\n",
       " '—',\n",
       " 'whose',\n",
       " 'account',\n",
       " 'form',\n",
       " 'basi',\n",
       " 'murder',\n",
       " 'charg',\n",
       " 'nikki',\n",
       " \"'s\",\n",
       " 'husband',\n",
       " 'in-law',\n",
       " '—',\n",
       " 'establish',\n",
       " 'chain',\n",
       " 'event',\n",
       " 'aug',\n",
       " '21',\n",
       " 'even',\n",
       " 'led',\n",
       " 'death',\n",
       " '.',\n",
       " 'five',\n",
       " 'day',\n",
       " 'probe',\n",
       " ',',\n",
       " 'polic',\n",
       " 'clear',\n",
       " 'answer',\n",
       " 'amid',\n",
       " 'maze',\n",
       " 'conflict',\n",
       " 'claim',\n",
       " 'social',\n",
       " 'media',\n",
       " 'video',\n",
       " '.',\n",
       " 'seen',\n",
       " 'initi',\n",
       " 'case',\n",
       " 'husband',\n",
       " 'vipin',\n",
       " 'attack',\n",
       " 'nikki',\n",
       " ',',\n",
       " 'polic',\n",
       " 'said',\n",
       " 'emerg',\n",
       " 'new',\n",
       " 'video',\n",
       " 'make',\n",
       " 'scenario',\n",
       " 'plausibl',\n",
       " 'question',\n",
       " 'kanchan',\n",
       " 'critic',\n",
       " '.']"
      ]
     },
     "execution_count": 16,
     "metadata": {},
     "output_type": "execute_result"
    }
   ],
   "source": [
    "root_words=[stemm.stem(word) for word in words_after_stopwords]\n",
    "\n",
    "root_words"
   ]
  },
  {
   "cell_type": "code",
   "execution_count": 17,
   "id": "2cbeafd8",
   "metadata": {},
   "outputs": [],
   "source": [
    "from nltk.stem.snowball import SnowballStemmer\n",
    "stem1=SnowballStemmer(language=\"english\")"
   ]
  },
  {
   "cell_type": "code",
   "execution_count": 18,
   "id": "bcd75072",
   "metadata": {},
   "outputs": [
    {
     "data": {
      "text/plain": [
       "['noida',\n",
       " ':',\n",
       " 'investig',\n",
       " 'probe',\n",
       " 'nikki',\n",
       " 'bhati',\n",
       " \"'s\",\n",
       " 'death',\n",
       " 'decid',\n",
       " 're-examin',\n",
       " 'sister',\n",
       " 'kanchan',\n",
       " '—',\n",
       " 'whose',\n",
       " 'account',\n",
       " 'form',\n",
       " 'basi',\n",
       " 'murder',\n",
       " 'charg',\n",
       " 'nikki',\n",
       " \"'s\",\n",
       " 'husband',\n",
       " 'in-law',\n",
       " '—',\n",
       " 'establish',\n",
       " 'chain',\n",
       " 'event',\n",
       " 'aug',\n",
       " '21',\n",
       " 'even',\n",
       " 'led',\n",
       " 'death',\n",
       " '.',\n",
       " 'five',\n",
       " 'day',\n",
       " 'probe',\n",
       " ',',\n",
       " 'polic',\n",
       " 'clear',\n",
       " 'answer',\n",
       " 'amid',\n",
       " 'maze',\n",
       " 'conflict',\n",
       " 'claim',\n",
       " 'social',\n",
       " 'media',\n",
       " 'video',\n",
       " '.',\n",
       " 'seen',\n",
       " 'initi',\n",
       " 'case',\n",
       " 'husband',\n",
       " 'vipin',\n",
       " 'attack',\n",
       " 'nikki',\n",
       " ',',\n",
       " 'polic',\n",
       " 'said',\n",
       " 'emerg',\n",
       " 'new',\n",
       " 'video',\n",
       " 'make',\n",
       " 'scenario',\n",
       " 'plausibl',\n",
       " 'question',\n",
       " 'kanchan',\n",
       " 'critic',\n",
       " '.']"
      ]
     },
     "execution_count": 18,
     "metadata": {},
     "output_type": "execute_result"
    }
   ],
   "source": [
    "root_words1=[stem1.stem(word) for word in words_after_stopwords]\n",
    "root_words1"
   ]
  },
  {
   "cell_type": "markdown",
   "id": "e4807419",
   "metadata": {},
   "source": [
    "LEMMETIZATION"
   ]
  },
  {
   "cell_type": "code",
   "execution_count": 19,
   "id": "3158876d",
   "metadata": {},
   "outputs": [
    {
     "name": "stderr",
     "output_type": "stream",
     "text": [
      "[nltk_data] Downloading package wordnet to\n",
      "[nltk_data]     C:\\Users\\aswaj\\AppData\\Roaming\\nltk_data...\n",
      "[nltk_data]   Package wordnet is already up-to-date!\n"
     ]
    }
   ],
   "source": [
    "from nltk.stem import WordNetLemmatizer\n",
    "nltk.download(\"wordnet\")\n",
    "\n",
    "lemmatizer=WordNetLemmatizer()"
   ]
  },
  {
   "cell_type": "code",
   "execution_count": 20,
   "id": "238e640c",
   "metadata": {},
   "outputs": [],
   "source": [
    "lemmatized_words=[lemmatizer.lemmatize(word) for word in words_after_stopwords]"
   ]
  },
  {
   "cell_type": "code",
   "execution_count": 21,
   "id": "26a2fbcc",
   "metadata": {},
   "outputs": [
    {
     "data": {
      "text/plain": [
       "['NOIDA',\n",
       " ':',\n",
       " 'Investigators',\n",
       " 'probing',\n",
       " 'Nikki',\n",
       " 'Bhati',\n",
       " \"'s\",\n",
       " 'death',\n",
       " 'decided',\n",
       " 're-examine',\n",
       " 'sister',\n",
       " 'Kanchan',\n",
       " '—',\n",
       " 'whose',\n",
       " 'account',\n",
       " 'form',\n",
       " 'basis',\n",
       " 'murder',\n",
       " 'charge',\n",
       " 'Nikki',\n",
       " \"'s\",\n",
       " 'husband',\n",
       " 'in-law',\n",
       " '—',\n",
       " 'establish',\n",
       " 'chain',\n",
       " 'event',\n",
       " 'Aug',\n",
       " '21',\n",
       " 'evening',\n",
       " 'led',\n",
       " 'death',\n",
       " '.',\n",
       " 'Five',\n",
       " 'day',\n",
       " 'probe',\n",
       " ',',\n",
       " 'police',\n",
       " 'clear',\n",
       " 'answer',\n",
       " 'amid',\n",
       " 'maze',\n",
       " 'conflicting',\n",
       " 'claim',\n",
       " 'social',\n",
       " 'medium',\n",
       " 'video',\n",
       " '.',\n",
       " 'Seen',\n",
       " 'initially',\n",
       " 'case',\n",
       " 'husband',\n",
       " 'Vipin',\n",
       " 'attacking',\n",
       " 'Nikki',\n",
       " ',',\n",
       " 'police',\n",
       " 'said',\n",
       " 'emergence',\n",
       " 'new',\n",
       " 'video',\n",
       " 'make',\n",
       " 'scenario',\n",
       " 'plausible',\n",
       " 'questioning',\n",
       " 'Kanchan',\n",
       " 'critical',\n",
       " '.']"
      ]
     },
     "execution_count": 21,
     "metadata": {},
     "output_type": "execute_result"
    }
   ],
   "source": [
    "lemmatized_words"
   ]
  },
  {
   "cell_type": "markdown",
   "id": "e4ab6ce0",
   "metadata": {},
   "source": [
    "pos tagging"
   ]
  },
  {
   "cell_type": "code",
   "execution_count": 22,
   "id": "c1e29033",
   "metadata": {},
   "outputs": [
    {
     "name": "stderr",
     "output_type": "stream",
     "text": [
      "[nltk_data] Downloading package averaged_perceptron_tagger_eng to\n",
      "[nltk_data]     C:\\Users\\aswaj\\AppData\\Roaming\\nltk_data...\n",
      "[nltk_data]   Package averaged_perceptron_tagger_eng is already up-to-\n",
      "[nltk_data]       date!\n"
     ]
    },
    {
     "data": {
      "text/plain": [
       "True"
      ]
     },
     "execution_count": 22,
     "metadata": {},
     "output_type": "execute_result"
    }
   ],
   "source": [
    "nltk.download(\"averaged_perceptron_tagger_eng\")"
   ]
  },
  {
   "cell_type": "code",
   "execution_count": 23,
   "id": "04200193",
   "metadata": {},
   "outputs": [
    {
     "data": {
      "text/plain": [
       "[('NOIDA', 'NN'),\n",
       " (':', ':'),\n",
       " ('Investigators', 'NNS'),\n",
       " ('probing', 'VBG'),\n",
       " ('Nikki', 'NNP'),\n",
       " ('Bhati', 'NNP'),\n",
       " (\"'s\", 'POS'),\n",
       " ('death', 'NN'),\n",
       " ('decided', 'VBD'),\n",
       " ('re-examine', 'JJ'),\n",
       " ('sister', 'NN'),\n",
       " ('Kanchan', 'NNP'),\n",
       " ('—', 'NNP'),\n",
       " ('whose', 'WP$'),\n",
       " ('account', 'NN'),\n",
       " ('forms', 'JJ'),\n",
       " ('basis', 'NN'),\n",
       " ('murder', 'NN'),\n",
       " ('charges', 'NNS'),\n",
       " ('Nikki', 'NNP'),\n",
       " (\"'s\", 'POS'),\n",
       " ('husband', 'NN'),\n",
       " ('in-laws', 'JJ'),\n",
       " ('—', 'JJ'),\n",
       " ('establish', 'VB'),\n",
       " ('chain', 'NN'),\n",
       " ('events', 'NNS'),\n",
       " ('Aug', 'VBP'),\n",
       " ('21', 'CD'),\n",
       " ('evening', 'NN'),\n",
       " ('led', 'VBD'),\n",
       " ('death', 'NN'),\n",
       " ('.', '.'),\n",
       " ('Five', 'CD'),\n",
       " ('days', 'NNS'),\n",
       " ('probe', 'NN'),\n",
       " (',', ','),\n",
       " ('police', 'NN'),\n",
       " ('clear', 'JJ'),\n",
       " ('answers', 'NNS'),\n",
       " ('amid', 'IN'),\n",
       " ('maze', 'JJ'),\n",
       " ('conflicting', 'VBG'),\n",
       " ('claims', 'NNS'),\n",
       " ('social', 'JJ'),\n",
       " ('media', 'NNS'),\n",
       " ('videos', 'NNS'),\n",
       " ('.', '.'),\n",
       " ('Seen', 'NNP'),\n",
       " ('initially', 'RB'),\n",
       " ('case', 'NN'),\n",
       " ('husband', 'NN'),\n",
       " ('Vipin', 'NNP'),\n",
       " ('attacking', 'VBG'),\n",
       " ('Nikki', 'NNP'),\n",
       " (',', ','),\n",
       " ('police', 'NN'),\n",
       " ('said', 'VBD'),\n",
       " ('emergence', 'NN'),\n",
       " ('new', 'JJ'),\n",
       " ('videos', 'JJ'),\n",
       " ('makes', 'VBZ'),\n",
       " ('scenarios', 'NNS'),\n",
       " ('plausible', 'JJ'),\n",
       " ('questioning', 'VBG'),\n",
       " ('Kanchan', 'NNP'),\n",
       " ('critical', 'JJ'),\n",
       " ('.', '.')]"
      ]
     },
     "execution_count": 23,
     "metadata": {},
     "output_type": "execute_result"
    }
   ],
   "source": [
    "tagg_words=nltk.pos_tag(words_after_stopwords)\n",
    "tagg_words"
   ]
  },
  {
   "cell_type": "code",
   "execution_count": 24,
   "id": "7c187cd4",
   "metadata": {},
   "outputs": [
    {
     "name": "stdout",
     "output_type": "stream",
     "text": [
      "$: dollar\n",
      "    $ -$ --$ A$ C$ HK$ M$ NZ$ S$ U.S.$ US$\n",
      "'': closing quotation mark\n",
      "    ' ''\n",
      "(: opening parenthesis\n",
      "    ( [ {\n",
      "): closing parenthesis\n",
      "    ) ] }\n",
      ",: comma\n",
      "    ,\n",
      "--: dash\n",
      "    --\n",
      ".: sentence terminator\n",
      "    . ! ?\n",
      ":: colon or ellipsis\n",
      "    : ; ...\n",
      "CC: conjunction, coordinating\n",
      "    & 'n and both but either et for less minus neither nor or plus so\n",
      "    therefore times v. versus vs. whether yet\n",
      "CD: numeral, cardinal\n",
      "    mid-1890 nine-thirty forty-two one-tenth ten million 0.5 one forty-\n",
      "    seven 1987 twenty '79 zero two 78-degrees eighty-four IX '60s .025\n",
      "    fifteen 271,124 dozen quintillion DM2,000 ...\n",
      "DT: determiner\n",
      "    all an another any both del each either every half la many much nary\n",
      "    neither no some such that the them these this those\n",
      "EX: existential there\n",
      "    there\n",
      "FW: foreign word\n",
      "    gemeinschaft hund ich jeux habeas Haementeria Herr K'ang-si vous\n",
      "    lutihaw alai je jour objets salutaris fille quibusdam pas trop Monte\n",
      "    terram fiche oui corporis ...\n",
      "IN: preposition or conjunction, subordinating\n",
      "    astride among uppon whether out inside pro despite on by throughout\n",
      "    below within for towards near behind atop around if like until below\n",
      "    next into if beside ...\n",
      "JJ: adjective or numeral, ordinal\n",
      "    third ill-mannered pre-war regrettable oiled calamitous first separable\n",
      "    ectoplasmic battery-powered participatory fourth still-to-be-named\n",
      "    multilingual multi-disciplinary ...\n",
      "JJR: adjective, comparative\n",
      "    bleaker braver breezier briefer brighter brisker broader bumper busier\n",
      "    calmer cheaper choosier cleaner clearer closer colder commoner costlier\n",
      "    cozier creamier crunchier cuter ...\n",
      "JJS: adjective, superlative\n",
      "    calmest cheapest choicest classiest cleanest clearest closest commonest\n",
      "    corniest costliest crassest creepiest crudest cutest darkest deadliest\n",
      "    dearest deepest densest dinkiest ...\n",
      "LS: list item marker\n",
      "    A A. B B. C C. D E F First G H I J K One SP-44001 SP-44002 SP-44005\n",
      "    SP-44007 Second Third Three Two * a b c d first five four one six three\n",
      "    two\n",
      "MD: modal auxiliary\n",
      "    can cannot could couldn't dare may might must need ought shall should\n",
      "    shouldn't will would\n",
      "NN: noun, common, singular or mass\n",
      "    common-carrier cabbage knuckle-duster Casino afghan shed thermostat\n",
      "    investment slide humour falloff slick wind hyena override subhumanity\n",
      "    machinist ...\n",
      "NNP: noun, proper, singular\n",
      "    Motown Venneboerger Czestochwa Ranzer Conchita Trumplane Christos\n",
      "    Oceanside Escobar Kreisler Sawyer Cougar Yvette Ervin ODI Darryl CTCA\n",
      "    Shannon A.K.C. Meltex Liverpool ...\n",
      "NNPS: noun, proper, plural\n",
      "    Americans Americas Amharas Amityvilles Amusements Anarcho-Syndicalists\n",
      "    Andalusians Andes Andruses Angels Animals Anthony Antilles Antiques\n",
      "    Apache Apaches Apocrypha ...\n",
      "NNS: noun, common, plural\n",
      "    undergraduates scotches bric-a-brac products bodyguards facets coasts\n",
      "    divestitures storehouses designs clubs fragrances averages\n",
      "    subjectivists apprehensions muses factory-jobs ...\n",
      "PDT: pre-determiner\n",
      "    all both half many quite such sure this\n",
      "POS: genitive marker\n",
      "    ' 's\n",
      "PRP: pronoun, personal\n",
      "    hers herself him himself hisself it itself me myself one oneself ours\n",
      "    ourselves ownself self she thee theirs them themselves they thou thy us\n",
      "PRP$: pronoun, possessive\n",
      "    her his mine my our ours their thy your\n",
      "RB: adverb\n",
      "    occasionally unabatingly maddeningly adventurously professedly\n",
      "    stirringly prominently technologically magisterially predominately\n",
      "    swiftly fiscally pitilessly ...\n",
      "RBR: adverb, comparative\n",
      "    further gloomier grander graver greater grimmer harder harsher\n",
      "    healthier heavier higher however larger later leaner lengthier less-\n",
      "    perfectly lesser lonelier longer louder lower more ...\n",
      "RBS: adverb, superlative\n",
      "    best biggest bluntest earliest farthest first furthest hardest\n",
      "    heartiest highest largest least less most nearest second tightest worst\n",
      "RP: particle\n",
      "    aboard about across along apart around aside at away back before behind\n",
      "    by crop down ever fast for forth from go high i.e. in into just later\n",
      "    low more off on open out over per pie raising start teeth that through\n",
      "    under unto up up-pp upon whole with you\n",
      "SYM: symbol\n",
      "    % & ' '' ''. ) ). * + ,. < = > @ A[fj] U.S U.S.S.R * ** ***\n",
      "TO: \"to\" as preposition or infinitive marker\n",
      "    to\n",
      "UH: interjection\n",
      "    Goodbye Goody Gosh Wow Jeepers Jee-sus Hubba Hey Kee-reist Oops amen\n",
      "    huh howdy uh dammit whammo shucks heck anyways whodunnit honey golly\n",
      "    man baby diddle hush sonuvabitch ...\n",
      "VB: verb, base form\n",
      "    ask assemble assess assign assume atone attention avoid bake balkanize\n",
      "    bank begin behold believe bend benefit bevel beware bless boil bomb\n",
      "    boost brace break bring broil brush build ...\n",
      "VBD: verb, past tense\n",
      "    dipped pleaded swiped regummed soaked tidied convened halted registered\n",
      "    cushioned exacted snubbed strode aimed adopted belied figgered\n",
      "    speculated wore appreciated contemplated ...\n",
      "VBG: verb, present participle or gerund\n",
      "    telegraphing stirring focusing angering judging stalling lactating\n",
      "    hankerin' alleging veering capping approaching traveling besieging\n",
      "    encrypting interrupting erasing wincing ...\n",
      "VBN: verb, past participle\n",
      "    multihulled dilapidated aerosolized chaired languished panelized used\n",
      "    experimented flourished imitated reunifed factored condensed sheared\n",
      "    unsettled primed dubbed desired ...\n",
      "VBP: verb, present tense, not 3rd person singular\n",
      "    predominate wrap resort sue twist spill cure lengthen brush terminate\n",
      "    appear tend stray glisten obtain comprise detest tease attract\n",
      "    emphasize mold postpone sever return wag ...\n",
      "VBZ: verb, present tense, 3rd person singular\n",
      "    bases reconstructs marks mixes displeases seals carps weaves snatches\n",
      "    slumps stretches authorizes smolders pictures emerges stockpiles\n",
      "    seduces fizzes uses bolsters slaps speaks pleads ...\n",
      "WDT: WH-determiner\n",
      "    that what whatever which whichever\n",
      "WP: WH-pronoun\n",
      "    that what whatever whatsoever which who whom whosoever\n",
      "WP$: WH-pronoun, possessive\n",
      "    whose\n",
      "WRB: Wh-adverb\n",
      "    how however whence whenever where whereby whereever wherein whereof why\n",
      "``: opening quotation mark\n",
      "    ` ``\n"
     ]
    },
    {
     "name": "stderr",
     "output_type": "stream",
     "text": [
      "[nltk_data] Downloading package tagsets_json to\n",
      "[nltk_data]     C:\\Users\\aswaj\\AppData\\Roaming\\nltk_data...\n",
      "[nltk_data]   Package tagsets_json is already up-to-date!\n"
     ]
    }
   ],
   "source": [
    "nltk.download(\"tagsets_json\")\n",
    "nltk.help.upenn_tagset()"
   ]
  },
  {
   "cell_type": "markdown",
   "id": "8a2d312f",
   "metadata": {},
   "source": [
    "NAMED ENTITY RECOGNISATION"
   ]
  },
  {
   "cell_type": "code",
   "execution_count": 25,
   "id": "c1dfce72",
   "metadata": {},
   "outputs": [
    {
     "name": "stderr",
     "output_type": "stream",
     "text": [
      "[nltk_data] Downloading package maxent_ne_chunker_tab to\n",
      "[nltk_data]     C:\\Users\\aswaj\\AppData\\Roaming\\nltk_data...\n",
      "[nltk_data]   Package maxent_ne_chunker_tab is already up-to-date!\n",
      "[nltk_data] Downloading package words to\n",
      "[nltk_data]     C:\\Users\\aswaj\\AppData\\Roaming\\nltk_data...\n",
      "[nltk_data]   Package words is already up-to-date!\n"
     ]
    },
    {
     "data": {
      "text/plain": [
       "True"
      ]
     },
     "execution_count": 25,
     "metadata": {},
     "output_type": "execute_result"
    }
   ],
   "source": [
    "nltk.download(\"maxent_ne_chunker_tab\")\n",
    "nltk.download(\"words\")"
   ]
  },
  {
   "cell_type": "code",
   "execution_count": 26,
   "id": "f827dfe1",
   "metadata": {},
   "outputs": [
    {
     "name": "stdout",
     "output_type": "stream",
     "text": [
      "(S\n",
      "  (GPE NOIDA/NN)\n",
      "  :/:\n",
      "  Investigators/NNS\n",
      "  probing/VBG\n",
      "  (PERSON Nikki/NNP Bhati/NNP)\n",
      "  's/POS\n",
      "  death/NN\n",
      "  decided/VBD\n",
      "  re-examine/JJ\n",
      "  sister/NN\n",
      "  (PERSON Kanchan/NNP)\n",
      "  —/NNP\n",
      "  whose/WP$\n",
      "  account/NN\n",
      "  forms/JJ\n",
      "  basis/NN\n",
      "  murder/NN\n",
      "  charges/NNS\n",
      "  (PERSON Nikki/NNP)\n",
      "  's/POS\n",
      "  husband/NN\n",
      "  in-laws/JJ\n",
      "  —/JJ\n",
      "  establish/VB\n",
      "  chain/NN\n",
      "  events/NNS\n",
      "  Aug/VBP\n",
      "  21/CD\n",
      "  evening/NN\n",
      "  led/VBD\n",
      "  death/NN\n",
      "  ./.\n",
      "  Five/CD\n",
      "  days/NNS\n",
      "  probe/NN\n",
      "  ,/,\n",
      "  police/NN\n",
      "  clear/JJ\n",
      "  answers/NNS\n",
      "  amid/IN\n",
      "  maze/JJ\n",
      "  conflicting/VBG\n",
      "  claims/NNS\n",
      "  social/JJ\n",
      "  media/NNS\n",
      "  videos/NNS\n",
      "  ./.\n",
      "  (PERSON Seen/NNP)\n",
      "  initially/RB\n",
      "  case/NN\n",
      "  husband/NN\n",
      "  Vipin/NNP\n",
      "  attacking/VBG\n",
      "  (PERSON Nikki/NNP)\n",
      "  ,/,\n",
      "  police/NN\n",
      "  said/VBD\n",
      "  emergence/NN\n",
      "  new/JJ\n",
      "  videos/JJ\n",
      "  makes/VBZ\n",
      "  scenarios/NNS\n",
      "  plausible/JJ\n",
      "  questioning/VBG\n",
      "  (PERSON Kanchan/NNP)\n",
      "  critical/JJ\n",
      "  ./.)\n"
     ]
    }
   ],
   "source": [
    "entities=nltk.ne_chunk(tagg_words)\n",
    "print(entities)"
   ]
  },
  {
   "cell_type": "code",
   "execution_count": 27,
   "id": "13b12aae",
   "metadata": {},
   "outputs": [
    {
     "name": "stdout",
     "output_type": "stream",
     "text": [
      "NOIDA-->GPE\n",
      "Nikki Bhati-->PERSON\n",
      "Kanchan-->PERSON\n",
      "Nikki-->PERSON\n",
      "Seen-->PERSON\n",
      "Nikki-->PERSON\n",
      "Kanchan-->PERSON\n"
     ]
    }
   ],
   "source": [
    "for chunk in entities:\n",
    "    if hasattr(chunk,\"label\"):\n",
    "        entity_name=\" \".join(c[0] for c in chunk)\n",
    "        entity_type=chunk.label()\n",
    "\n",
    "        print(f\"{entity_name}-->{entity_type}\")\n"
   ]
  },
  {
   "cell_type": "code",
   "execution_count": 28,
   "id": "93711a19",
   "metadata": {},
   "outputs": [
    {
     "name": "stdout",
     "output_type": "stream",
     "text": [
      "<Compressed Sparse Row sparse matrix of dtype 'float64'\n",
      "\twith 7 stored elements and shape (1, 7)>\n",
      "  Coords\tValues\n",
      "  (0, 0)\t1.0\n",
      "  (0, 1)\t1.0\n",
      "  (0, 2)\t1.0\n",
      "  (0, 3)\t1.0\n",
      "  (0, 4)\t1.0\n",
      "  (0, 5)\t1.0\n",
      "  (0, 6)\t1.0\n"
     ]
    }
   ],
   "source": [
    "from sklearn.preprocessing import OneHotEncoder\n",
    "\n",
    "corpus = [\"I love NLP\",\"NLP is great\", \"I enjoy learning NLP\"]\n",
    "\n",
    "vocab = sorted(set(\" \".join(corpus).split()))\n",
    "\n",
    "encoder = OneHotEncoder()\n",
    "one_hot = encoder.fit_transform([vocab])\n",
    "print(one_hot)"
   ]
  },
  {
   "cell_type": "code",
   "execution_count": 29,
   "id": "8f5af4d6",
   "metadata": {},
   "outputs": [],
   "source": [
    "from sklearn.feature_extraction.text import CountVectorizer\n",
    "\n",
    "corpus=[\"I love NLP\",\"NLP is great\", \"I enjoy learning NLP\"]\n",
    "\n",
    "vectorizer=CountVectorizer()\n",
    "\n",
    "box_matrix=vectorizer.fit_transform(corpus)"
   ]
  },
  {
   "cell_type": "code",
   "execution_count": 30,
   "id": "d3f7cdb7",
   "metadata": {},
   "outputs": [
    {
     "data": {
      "text/plain": [
       "<Compressed Sparse Row sparse matrix of dtype 'int64'\n",
       "\twith 8 stored elements and shape (3, 6)>"
      ]
     },
     "execution_count": 30,
     "metadata": {},
     "output_type": "execute_result"
    }
   ],
   "source": [
    "box_matrix"
   ]
  },
  {
   "cell_type": "code",
   "execution_count": 31,
   "id": "6c500b77",
   "metadata": {},
   "outputs": [
    {
     "data": {
      "text/plain": [
       "array([[0, 0, 0, 0, 1, 1],\n",
       "       [0, 1, 1, 0, 0, 1],\n",
       "       [1, 0, 0, 1, 0, 1]], dtype=int64)"
      ]
     },
     "execution_count": 31,
     "metadata": {},
     "output_type": "execute_result"
    }
   ],
   "source": [
    "box_matrix.toarray()"
   ]
  },
  {
   "cell_type": "code",
   "execution_count": 32,
   "id": "829eadb8",
   "metadata": {},
   "outputs": [
    {
     "data": {
      "text/plain": [
       "array(['enjoy', 'great', 'is', 'learning', 'love', 'nlp'], dtype=object)"
      ]
     },
     "execution_count": 32,
     "metadata": {},
     "output_type": "execute_result"
    }
   ],
   "source": [
    "vectorizer.get_feature_names_out()"
   ]
  },
  {
   "cell_type": "code",
   "execution_count": 33,
   "id": "20bca554",
   "metadata": {},
   "outputs": [
    {
     "name": "stdout",
     "output_type": "stream",
     "text": [
      "Features name \n",
      "['affordable' 'and' 'burger' 'is' 'not' 'tasty' 'this' 'very']\n"
     ]
    }
   ],
   "source": [
    "from sklearn.feature_extraction.text import TfidfVectorizer\n",
    "import pandas as pd \n",
    "\n",
    "\n",
    "corpus = [\"This burger is very tasty and affordable.\",\n",
    "          \"This burger is not tasty and is affordable.\",\n",
    "          \"This burger is affordable and not very tasty.\"]\n",
    "\n",
    "\n",
    "\n",
    "vectorizer=TfidfVectorizer()\n",
    "\n",
    "vectors=vectorizer.fit_transform(corpus)\n",
    "\n",
    "feature_names = vectorizer.get_feature_names_out()\n",
    "print(f\"Features name \\n{feature_names}\")\n",
    "\n",
    "matrix=vectors.todense()\n",
    "list_dense=matrix.tolist()\n",
    "\n",
    "\n",
    "df=pd.DataFrame(list_dense,columns=feature_names)"
   ]
  },
  {
   "cell_type": "code",
   "execution_count": 35,
   "id": "d7601e8d",
   "metadata": {},
   "outputs": [],
   "source": [
    "import nltk\n",
    "from nltk.tokenize import sent_tokenize,word_tokenize\n",
    "import gensim\n",
    "from gensim.models import Word2Vec"
   ]
  },
  {
   "cell_type": "code",
   "execution_count": 38,
   "id": "e4fd9ede",
   "metadata": {},
   "outputs": [
    {
     "data": {
      "text/html": [
       "<div>\n",
       "<style scoped>\n",
       "    .dataframe tbody tr th:only-of-type {\n",
       "        vertical-align: middle;\n",
       "    }\n",
       "\n",
       "    .dataframe tbody tr th {\n",
       "        vertical-align: top;\n",
       "    }\n",
       "\n",
       "    .dataframe thead th {\n",
       "        text-align: right;\n",
       "    }\n",
       "</style>\n",
       "<table border=\"1\" class=\"dataframe\">\n",
       "  <thead>\n",
       "    <tr style=\"text-align: right;\">\n",
       "      <th></th>\n",
       "      <th>Text</th>\n",
       "    </tr>\n",
       "  </thead>\n",
       "  <tbody>\n",
       "    <tr>\n",
       "      <th>0</th>\n",
       "      <td>Natural Language Processing is a fascinating f...</td>\n",
       "    </tr>\n",
       "    <tr>\n",
       "      <th>1</th>\n",
       "      <td>It bridges the gap between humans and machines...</td>\n",
       "    </tr>\n",
       "    <tr>\n",
       "      <th>2</th>\n",
       "      <td>NLP techniques are widely used in applications...</td>\n",
       "    </tr>\n",
       "    <tr>\n",
       "      <th>3</th>\n",
       "      <td>Machine translation and speech recognition are...</td>\n",
       "    </tr>\n",
       "    <tr>\n",
       "      <th>4</th>\n",
       "      <td>Despite its advancements, NLP faces challenges...</td>\n",
       "    </tr>\n",
       "    <tr>\n",
       "      <th>5</th>\n",
       "      <td>Continuous research and innovation are improvi...</td>\n",
       "    </tr>\n",
       "    <tr>\n",
       "      <th>6</th>\n",
       "      <td>The potential of NLP is vast, making it essent...</td>\n",
       "    </tr>\n",
       "  </tbody>\n",
       "</table>\n",
       "</div>"
      ],
      "text/plain": [
       "                                                Text\n",
       "0  Natural Language Processing is a fascinating f...\n",
       "1  It bridges the gap between humans and machines...\n",
       "2  NLP techniques are widely used in applications...\n",
       "3  Machine translation and speech recognition are...\n",
       "4  Despite its advancements, NLP faces challenges...\n",
       "5  Continuous research and innovation are improvi...\n",
       "6  The potential of NLP is vast, making it essent..."
      ]
     },
     "execution_count": 38,
     "metadata": {},
     "output_type": "execute_result"
    }
   ],
   "source": [
    "file_path=\"nlp_dataset.csv\"\n",
    "df=pd.read_csv(file_path)\n",
    "df"
   ]
  },
  {
   "cell_type": "code",
   "execution_count": 39,
   "id": "f4c18714",
   "metadata": {},
   "outputs": [],
   "source": [
    "corpus_text=\" \".join(df[\"Text\"])\n",
    "\n",
    "data=[]\n",
    "\n",
    "for i in sent_tokenize(corpus_text):\n",
    "    temp=[]\n",
    "    for j in word_tokenize(i):\n",
    "        temp.append(j.lower())\n",
    "\n",
    "    data.append(temp)"
   ]
  },
  {
   "cell_type": "code",
   "execution_count": 40,
   "id": "6e817899",
   "metadata": {},
   "outputs": [],
   "source": [
    "model1=gensim.models.Word2Vec(data,min_count=1,window=5,sg=0)\n",
    "model2=gensim.models.Word2Vec(data,min_count=1,window=5,sg=1)"
   ]
  },
  {
   "cell_type": "code",
   "execution_count": 41,
   "id": "4ee8c990",
   "metadata": {},
   "outputs": [
    {
     "data": {
      "text/plain": [
       "<gensim.models.word2vec.Word2Vec at 0x16572775f60>"
      ]
     },
     "execution_count": 41,
     "metadata": {},
     "output_type": "execute_result"
    }
   ],
   "source": [
    "model1"
   ]
  },
  {
   "cell_type": "code",
   "execution_count": 42,
   "id": "122a576e",
   "metadata": {},
   "outputs": [
    {
     "name": "stdout",
     "output_type": "stream",
     "text": [
      "['.', 'nlp', 'and', 'language', 'are', 'of', 'in', 'the', 'is', ',', 'it', 'enabling', 'computers', 'technology', 'to', 'by', 'human', 'techniques', 'widely', 'understand', 'gap', 'machines', 'humans', 'between', 'bridges', 'intelligence', 'artificial', 'field', 'fascinating', 'a', 'processing', 'used', 'applications', 'modern', 'such', 'essential', 'making', 'vast', 'potential', 'rapidly', 'improving', 'innovation', 'research', 'continuous', 'ambiguity', 'including', 'challenges', 'faces', 'advancements', 'its', 'despite', 'cases', 'use', 'common', 'recognition', 'speech', 'translation', 'machine', 'analysis', 'sentiment', 'chatbots', 'as', 'natural']\n"
     ]
    }
   ],
   "source": [
    "print(list(model1.wv.key_to_index.keys()))"
   ]
  }
 ],
 "metadata": {
  "kernelspec": {
   "display_name": "project_env",
   "language": "python",
   "name": "python3"
  },
  "language_info": {
   "codemirror_mode": {
    "name": "ipython",
    "version": 3
   },
   "file_extension": ".py",
   "mimetype": "text/x-python",
   "name": "python",
   "nbconvert_exporter": "python",
   "pygments_lexer": "ipython3",
   "version": "3.10.11"
  }
 },
 "nbformat": 4,
 "nbformat_minor": 5
}
